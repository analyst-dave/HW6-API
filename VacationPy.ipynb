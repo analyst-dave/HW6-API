{
 "cells": [
  {
   "cell_type": "markdown",
   "metadata": {},
   "source": [
    "# VacationPy\n",
    "----\n",
    "\n",
    "#### Note\n",
    "* Instructions have been included for each segment. You do not have to follow them exactly, but they are included to help you think through the steps."
   ]
  },
  {
   "cell_type": "code",
   "execution_count": 47,
   "metadata": {},
   "outputs": [],
   "source": [
    "# Dependencies and Setup\n",
    "import matplotlib.pyplot as plt\n",
    "import pandas as pd\n",
    "import numpy as np\n",
    "import requests\n",
    "import json\n",
    "import traceback\n",
    "import gmaps\n",
    "import os\n",
    "\n",
    "# Import API key\n",
    "from api_keys import g_key"
   ]
  },
  {
   "cell_type": "code",
   "execution_count": 48,
   "metadata": {},
   "outputs": [],
   "source": [
    "### Store Part I results into DataFrame\n",
    "# * Load the csv exported in Part I to a DataFrame"
   ]
  },
  {
   "cell_type": "code",
   "execution_count": 49,
   "metadata": {},
   "outputs": [
    {
     "output_type": "execute_result",
     "data": {
      "text/plain": "           City    Lat     Lng  Max Temp  Humidity  Cloudiness  Wind Speed  \\\n0        avarua -21.21 -159.78     84.20        66          40       16.11   \n1       rikitea -23.12 -134.97     76.98        85         100       11.01   \n2        tiarei -17.53 -149.33     87.80        70          40       11.41   \n3        albany  42.60  -73.97     62.76        49          54        2.48   \n4    maningrida -12.07  134.27     83.12        63           1       16.73   \n..          ...    ...     ...       ...       ...         ...         ...   \n568  moses lake  47.13 -119.28     73.67        27          75        5.82   \n569       anito  12.45  125.29     82.81        84          89       11.72   \n570  whitehorse  60.72 -135.05     48.54        70          75       17.22   \n571    hannibal  39.71  -91.36     67.08        88          90        4.70   \n572      popova  42.96  131.72     62.60        67           3        6.71   \n\n    Country                 Date  \n0        CK  2020-05-17 01:13:32  \n1        PF  2020-05-17 01:13:32  \n2        PF  2020-05-17 01:13:32  \n3        US  2020-05-17 01:09:33  \n4        AU  2020-05-17 01:13:33  \n..      ...                  ...  \n568      US  2020-05-17 01:15:56  \n569      PH  2020-05-17 01:15:57  \n570      CA  2020-05-17 01:13:57  \n571      US  2020-05-17 01:15:57  \n572      RU  2020-05-17 01:15:57  \n\n[573 rows x 9 columns]",
      "text/html": "<div>\n<style scoped>\n    .dataframe tbody tr th:only-of-type {\n        vertical-align: middle;\n    }\n\n    .dataframe tbody tr th {\n        vertical-align: top;\n    }\n\n    .dataframe thead th {\n        text-align: right;\n    }\n</style>\n<table border=\"1\" class=\"dataframe\">\n  <thead>\n    <tr style=\"text-align: right;\">\n      <th></th>\n      <th>City</th>\n      <th>Lat</th>\n      <th>Lng</th>\n      <th>Max Temp</th>\n      <th>Humidity</th>\n      <th>Cloudiness</th>\n      <th>Wind Speed</th>\n      <th>Country</th>\n      <th>Date</th>\n    </tr>\n  </thead>\n  <tbody>\n    <tr>\n      <th>0</th>\n      <td>avarua</td>\n      <td>-21.21</td>\n      <td>-159.78</td>\n      <td>84.20</td>\n      <td>66</td>\n      <td>40</td>\n      <td>16.11</td>\n      <td>CK</td>\n      <td>2020-05-17 01:13:32</td>\n    </tr>\n    <tr>\n      <th>1</th>\n      <td>rikitea</td>\n      <td>-23.12</td>\n      <td>-134.97</td>\n      <td>76.98</td>\n      <td>85</td>\n      <td>100</td>\n      <td>11.01</td>\n      <td>PF</td>\n      <td>2020-05-17 01:13:32</td>\n    </tr>\n    <tr>\n      <th>2</th>\n      <td>tiarei</td>\n      <td>-17.53</td>\n      <td>-149.33</td>\n      <td>87.80</td>\n      <td>70</td>\n      <td>40</td>\n      <td>11.41</td>\n      <td>PF</td>\n      <td>2020-05-17 01:13:32</td>\n    </tr>\n    <tr>\n      <th>3</th>\n      <td>albany</td>\n      <td>42.60</td>\n      <td>-73.97</td>\n      <td>62.76</td>\n      <td>49</td>\n      <td>54</td>\n      <td>2.48</td>\n      <td>US</td>\n      <td>2020-05-17 01:09:33</td>\n    </tr>\n    <tr>\n      <th>4</th>\n      <td>maningrida</td>\n      <td>-12.07</td>\n      <td>134.27</td>\n      <td>83.12</td>\n      <td>63</td>\n      <td>1</td>\n      <td>16.73</td>\n      <td>AU</td>\n      <td>2020-05-17 01:13:33</td>\n    </tr>\n    <tr>\n      <th>...</th>\n      <td>...</td>\n      <td>...</td>\n      <td>...</td>\n      <td>...</td>\n      <td>...</td>\n      <td>...</td>\n      <td>...</td>\n      <td>...</td>\n      <td>...</td>\n    </tr>\n    <tr>\n      <th>568</th>\n      <td>moses lake</td>\n      <td>47.13</td>\n      <td>-119.28</td>\n      <td>73.67</td>\n      <td>27</td>\n      <td>75</td>\n      <td>5.82</td>\n      <td>US</td>\n      <td>2020-05-17 01:15:56</td>\n    </tr>\n    <tr>\n      <th>569</th>\n      <td>anito</td>\n      <td>12.45</td>\n      <td>125.29</td>\n      <td>82.81</td>\n      <td>84</td>\n      <td>89</td>\n      <td>11.72</td>\n      <td>PH</td>\n      <td>2020-05-17 01:15:57</td>\n    </tr>\n    <tr>\n      <th>570</th>\n      <td>whitehorse</td>\n      <td>60.72</td>\n      <td>-135.05</td>\n      <td>48.54</td>\n      <td>70</td>\n      <td>75</td>\n      <td>17.22</td>\n      <td>CA</td>\n      <td>2020-05-17 01:13:57</td>\n    </tr>\n    <tr>\n      <th>571</th>\n      <td>hannibal</td>\n      <td>39.71</td>\n      <td>-91.36</td>\n      <td>67.08</td>\n      <td>88</td>\n      <td>90</td>\n      <td>4.70</td>\n      <td>US</td>\n      <td>2020-05-17 01:15:57</td>\n    </tr>\n    <tr>\n      <th>572</th>\n      <td>popova</td>\n      <td>42.96</td>\n      <td>131.72</td>\n      <td>62.60</td>\n      <td>67</td>\n      <td>3</td>\n      <td>6.71</td>\n      <td>RU</td>\n      <td>2020-05-17 01:15:57</td>\n    </tr>\n  </tbody>\n</table>\n<p>573 rows × 9 columns</p>\n</div>"
     },
     "metadata": {},
     "execution_count": 49
    }
   ],
   "source": [
    "city_data_df = pd.read_csv(\"clean_city_data.csv\", index_col=False)\n",
    "city_data_df.reset_index(drop=True, inplace=True)\n",
    "city_data_df"
   ]
  },
  {
   "cell_type": "markdown",
   "metadata": {},
   "source": [
    "### Humidity Heatmap\n",
    "* Configure gmaps.\n",
    "* Use the Lat and Lng as locations and Humidity as the weight.\n",
    "* Add Heatmap layer to map."
   ]
  },
  {
   "cell_type": "code",
   "execution_count": 50,
   "metadata": {},
   "outputs": [
    {
     "output_type": "stream",
     "name": "stdout",
     "text": "573\n573\n"
    }
   ],
   "source": [
    "# Configure gmaps with API key\n",
    "gmaps.configure(api_key=g_key)\n",
    "\n",
    "# Store 'Lat' and 'Lng' into  locations \n",
    "locations = city_data_df[['Lat', 'Lng']].astype(float)\n",
    "\n",
    "# Convert Humidity to float and store\n",
    "humidity = city_data_df['Humidity'].astype(float)\n",
    "print(len(locations))\n",
    "print(len(humidity))"
   ]
  },
  {
   "cell_type": "code",
   "execution_count": 51,
   "metadata": {},
   "outputs": [
    {
     "output_type": "display_data",
     "data": {
      "text/plain": "Figure(layout=FigureLayout(height='420px'))",
      "application/vnd.jupyter.widget-view+json": {
       "version_major": 2,
       "version_minor": 0,
       "model_id": "97822210479c43bbb3d59d6acd64625d"
      }
     },
     "metadata": {}
    }
   ],
   "source": [
    "# Create a poverty Heatmap layer\n",
    "starting_coordinates = (38.58, -121.48) #Sac starting point\n",
    "fig = gmaps.figure(center=starting_coordinates, \n",
    "                   zoom_level=4,\n",
    "                   map_type='HYBRID')\n",
    "\n",
    "heat_layer = gmaps.heatmap_layer(locations, \n",
    "                                 weights=humidity, \n",
    "                                 dissipating=False,         \n",
    "                                 max_intensity=100,\n",
    "                                 point_radius = 2)\n",
    "\n",
    "fig.add_layer(heat_layer)\n",
    "\n",
    "fig"
   ]
  },
  {
   "cell_type": "markdown",
   "metadata": {},
   "source": [
    "### Create new DataFrame fitting weather criteria\n",
    "* Narrow down the cities to fit weather conditions.\n",
    "* Drop any rows will null values."
   ]
  },
  {
   "cell_type": "code",
   "execution_count": 52,
   "metadata": {},
   "outputs": [
    {
     "output_type": "execute_result",
     "data": {
      "text/plain": "                City    Lat     Lng  Max Temp  Humidity  Cloudiness  \\\n0             avarua -21.21 -159.78     84.20        66          40   \n2             tiarei -17.53 -149.33     87.80        70          40   \n4         maningrida -12.07  134.27     83.12        63           1   \n9             atuona  -9.80 -139.03     81.18        78          20   \n15       santa marta  11.24  -74.20     84.00        78         100   \n19           iralaya  15.00  -83.23     86.00        74         100   \n27      san patricio  19.22 -104.70     80.60        78           5   \n31           isangel -19.55  169.27     77.00        69          73   \n39          cidreira -30.18  -50.21     61.83        70           0   \n45              puro  12.48  123.38     85.46        73         100   \n60             lishu  43.30  124.33     63.03        72          96   \n77             kapaa  22.08 -159.32     80.26        74          40   \n79          lorengau  -2.02  147.27     86.18        73          21   \n96   arraial do cabo -22.97  -42.03     72.81        77          26   \n99         bathsheba  13.22  -59.52     82.40        74          20   \n100              vao -22.67  167.48     72.10        79         100   \n105          kismayo  -0.36   42.55     80.83        75          53   \n106        ugoofaaru   5.67   73.00     85.06        75         100   \n118       oranjestad  12.52  -70.03     82.40        74          20   \n121          oistins  13.07  -59.53     82.40        74          20   \n158          teguise  29.06  -13.56     66.20        72           0   \n163        karpathos  35.51   27.21     73.40        64           0   \n167          el alto  -4.27  -81.21     69.67        79          10   \n180       butaritari   3.07  172.79     83.88        77           5   \n192       logansport  40.75  -86.36     69.71        77          75   \n226             chuy -33.70  -53.46     62.67        70           0   \n227           artyom  40.47   50.33     62.60        77           0   \n249       las palmas  28.42  -14.01     66.20        68          13   \n268        hithadhoo  -0.60   73.08     85.15        77         100   \n271       the valley  18.22  -63.06     81.10        69          20   \n299           lompoc  34.64 -120.46     63.28        63           1   \n303          wanning  18.80  110.40     85.55        71           4   \n351          bubaque  11.28  -15.83     79.41        75          14   \n356          merauke  -8.47  140.33     80.74        78         100   \n410         portland  45.52 -122.68     62.98        71         100   \n423           moroni -11.70   43.26     76.98        73           7   \n438        kavaratti  10.57   72.64     85.48        79          94   \n439        nhulunbuy -12.23  136.77     80.60        74          90   \n454    saint-georges  12.06  -61.75     82.40        78          40   \n466       nkhotakota -12.93   34.30     67.35        64           0   \n468           tairua -37.02  175.85     64.99        68          58   \n500      mitsamiouli -11.38   43.28     79.32        71           1   \n510          sechura  -5.56  -80.82     72.09        70           0   \n526       nouadhibou  20.93  -17.03     66.20        72          44   \n535           tadine -21.55  167.88     74.19        69         100   \n536            sosua  19.77  -70.52     82.18        74          40   \n566           pandan  14.05  124.17     85.55        72          84   \n\n     Wind Speed Country                 Date  \n0         16.11      CK  2020-05-17 01:13:32  \n2         11.41      PF  2020-05-17 01:13:32  \n4         16.73      AU  2020-05-17 01:13:33  \n9         17.43      PF  2020-05-17 01:13:34  \n15        12.35      CO  2020-05-17 01:13:35  \n19        11.41      HN  2020-05-17 01:13:36  \n27        11.41      MX  2020-05-17 01:13:39  \n31        11.41      VU  2020-05-17 01:13:40  \n39        11.72      BR  2020-05-17 01:13:41  \n45        10.58      PH  2020-05-17 01:13:43  \n60        14.16      CN  2020-05-17 01:13:46  \n77        11.41      US  2020-05-17 01:13:50  \n79        11.01      PG  2020-05-17 01:13:50  \n96        11.45      BR  2020-05-17 01:13:54  \n99        23.04      BB  2020-05-17 01:13:55  \n100       15.39      NC  2020-05-17 01:13:56  \n105       14.72      SO  2020-05-17 01:13:57  \n106       17.98      MV  2020-05-17 01:13:57  \n118       24.16      AW  2020-05-17 01:11:23  \n121       23.04      BB  2020-05-17 01:14:01  \n158       12.75      ES  2020-05-17 01:14:09  \n163       12.75      GR  2020-05-17 01:14:11  \n167       16.02      PE  2020-05-17 01:14:12  \n180       14.29      KI  2020-05-17 01:14:02  \n192       12.75      US  2020-05-17 01:09:20  \n226       13.18      UY  2020-05-17 01:14:28  \n227       29.97      AZ  2020-05-17 01:11:03  \n249       10.29      ES  2020-05-17 01:14:33  \n268       20.62      MV  2020-05-17 01:14:38  \n271       13.87      AI  2020-05-17 01:14:39  \n299       13.87      US  2020-05-17 01:14:35  \n303       11.34      CN  2020-05-17 01:14:47  \n351       12.82      GW  2020-05-17 01:15:00  \n356       15.68      ID  2020-05-17 01:15:02  \n410       10.51      US  2020-05-17 01:11:51  \n423       19.10      KM  2020-05-17 01:15:20  \n438       14.54      IN  2020-05-17 01:14:48  \n439       16.11      AU  2020-05-17 01:15:24  \n454       23.04      GD  2020-05-17 01:15:28  \n466       11.95      MW  2020-05-17 01:15:31  \n468       11.99      NZ  2020-05-17 01:15:31  \n500       19.60      KM  2020-05-17 01:15:39  \n510       15.61      PE  2020-05-17 01:15:42  \n526       20.80      MR  2020-05-17 01:15:46  \n535       12.12      NC  2020-05-17 01:15:48  \n536       11.41      DO  2020-05-17 01:15:48  \n566       10.13      PH  2020-05-17 01:15:56  ",
      "text/html": "<div>\n<style scoped>\n    .dataframe tbody tr th:only-of-type {\n        vertical-align: middle;\n    }\n\n    .dataframe tbody tr th {\n        vertical-align: top;\n    }\n\n    .dataframe thead th {\n        text-align: right;\n    }\n</style>\n<table border=\"1\" class=\"dataframe\">\n  <thead>\n    <tr style=\"text-align: right;\">\n      <th></th>\n      <th>City</th>\n      <th>Lat</th>\n      <th>Lng</th>\n      <th>Max Temp</th>\n      <th>Humidity</th>\n      <th>Cloudiness</th>\n      <th>Wind Speed</th>\n      <th>Country</th>\n      <th>Date</th>\n    </tr>\n  </thead>\n  <tbody>\n    <tr>\n      <th>0</th>\n      <td>avarua</td>\n      <td>-21.21</td>\n      <td>-159.78</td>\n      <td>84.20</td>\n      <td>66</td>\n      <td>40</td>\n      <td>16.11</td>\n      <td>CK</td>\n      <td>2020-05-17 01:13:32</td>\n    </tr>\n    <tr>\n      <th>2</th>\n      <td>tiarei</td>\n      <td>-17.53</td>\n      <td>-149.33</td>\n      <td>87.80</td>\n      <td>70</td>\n      <td>40</td>\n      <td>11.41</td>\n      <td>PF</td>\n      <td>2020-05-17 01:13:32</td>\n    </tr>\n    <tr>\n      <th>4</th>\n      <td>maningrida</td>\n      <td>-12.07</td>\n      <td>134.27</td>\n      <td>83.12</td>\n      <td>63</td>\n      <td>1</td>\n      <td>16.73</td>\n      <td>AU</td>\n      <td>2020-05-17 01:13:33</td>\n    </tr>\n    <tr>\n      <th>9</th>\n      <td>atuona</td>\n      <td>-9.80</td>\n      <td>-139.03</td>\n      <td>81.18</td>\n      <td>78</td>\n      <td>20</td>\n      <td>17.43</td>\n      <td>PF</td>\n      <td>2020-05-17 01:13:34</td>\n    </tr>\n    <tr>\n      <th>15</th>\n      <td>santa marta</td>\n      <td>11.24</td>\n      <td>-74.20</td>\n      <td>84.00</td>\n      <td>78</td>\n      <td>100</td>\n      <td>12.35</td>\n      <td>CO</td>\n      <td>2020-05-17 01:13:35</td>\n    </tr>\n    <tr>\n      <th>19</th>\n      <td>iralaya</td>\n      <td>15.00</td>\n      <td>-83.23</td>\n      <td>86.00</td>\n      <td>74</td>\n      <td>100</td>\n      <td>11.41</td>\n      <td>HN</td>\n      <td>2020-05-17 01:13:36</td>\n    </tr>\n    <tr>\n      <th>27</th>\n      <td>san patricio</td>\n      <td>19.22</td>\n      <td>-104.70</td>\n      <td>80.60</td>\n      <td>78</td>\n      <td>5</td>\n      <td>11.41</td>\n      <td>MX</td>\n      <td>2020-05-17 01:13:39</td>\n    </tr>\n    <tr>\n      <th>31</th>\n      <td>isangel</td>\n      <td>-19.55</td>\n      <td>169.27</td>\n      <td>77.00</td>\n      <td>69</td>\n      <td>73</td>\n      <td>11.41</td>\n      <td>VU</td>\n      <td>2020-05-17 01:13:40</td>\n    </tr>\n    <tr>\n      <th>39</th>\n      <td>cidreira</td>\n      <td>-30.18</td>\n      <td>-50.21</td>\n      <td>61.83</td>\n      <td>70</td>\n      <td>0</td>\n      <td>11.72</td>\n      <td>BR</td>\n      <td>2020-05-17 01:13:41</td>\n    </tr>\n    <tr>\n      <th>45</th>\n      <td>puro</td>\n      <td>12.48</td>\n      <td>123.38</td>\n      <td>85.46</td>\n      <td>73</td>\n      <td>100</td>\n      <td>10.58</td>\n      <td>PH</td>\n      <td>2020-05-17 01:13:43</td>\n    </tr>\n    <tr>\n      <th>60</th>\n      <td>lishu</td>\n      <td>43.30</td>\n      <td>124.33</td>\n      <td>63.03</td>\n      <td>72</td>\n      <td>96</td>\n      <td>14.16</td>\n      <td>CN</td>\n      <td>2020-05-17 01:13:46</td>\n    </tr>\n    <tr>\n      <th>77</th>\n      <td>kapaa</td>\n      <td>22.08</td>\n      <td>-159.32</td>\n      <td>80.26</td>\n      <td>74</td>\n      <td>40</td>\n      <td>11.41</td>\n      <td>US</td>\n      <td>2020-05-17 01:13:50</td>\n    </tr>\n    <tr>\n      <th>79</th>\n      <td>lorengau</td>\n      <td>-2.02</td>\n      <td>147.27</td>\n      <td>86.18</td>\n      <td>73</td>\n      <td>21</td>\n      <td>11.01</td>\n      <td>PG</td>\n      <td>2020-05-17 01:13:50</td>\n    </tr>\n    <tr>\n      <th>96</th>\n      <td>arraial do cabo</td>\n      <td>-22.97</td>\n      <td>-42.03</td>\n      <td>72.81</td>\n      <td>77</td>\n      <td>26</td>\n      <td>11.45</td>\n      <td>BR</td>\n      <td>2020-05-17 01:13:54</td>\n    </tr>\n    <tr>\n      <th>99</th>\n      <td>bathsheba</td>\n      <td>13.22</td>\n      <td>-59.52</td>\n      <td>82.40</td>\n      <td>74</td>\n      <td>20</td>\n      <td>23.04</td>\n      <td>BB</td>\n      <td>2020-05-17 01:13:55</td>\n    </tr>\n    <tr>\n      <th>100</th>\n      <td>vao</td>\n      <td>-22.67</td>\n      <td>167.48</td>\n      <td>72.10</td>\n      <td>79</td>\n      <td>100</td>\n      <td>15.39</td>\n      <td>NC</td>\n      <td>2020-05-17 01:13:56</td>\n    </tr>\n    <tr>\n      <th>105</th>\n      <td>kismayo</td>\n      <td>-0.36</td>\n      <td>42.55</td>\n      <td>80.83</td>\n      <td>75</td>\n      <td>53</td>\n      <td>14.72</td>\n      <td>SO</td>\n      <td>2020-05-17 01:13:57</td>\n    </tr>\n    <tr>\n      <th>106</th>\n      <td>ugoofaaru</td>\n      <td>5.67</td>\n      <td>73.00</td>\n      <td>85.06</td>\n      <td>75</td>\n      <td>100</td>\n      <td>17.98</td>\n      <td>MV</td>\n      <td>2020-05-17 01:13:57</td>\n    </tr>\n    <tr>\n      <th>118</th>\n      <td>oranjestad</td>\n      <td>12.52</td>\n      <td>-70.03</td>\n      <td>82.40</td>\n      <td>74</td>\n      <td>20</td>\n      <td>24.16</td>\n      <td>AW</td>\n      <td>2020-05-17 01:11:23</td>\n    </tr>\n    <tr>\n      <th>121</th>\n      <td>oistins</td>\n      <td>13.07</td>\n      <td>-59.53</td>\n      <td>82.40</td>\n      <td>74</td>\n      <td>20</td>\n      <td>23.04</td>\n      <td>BB</td>\n      <td>2020-05-17 01:14:01</td>\n    </tr>\n    <tr>\n      <th>158</th>\n      <td>teguise</td>\n      <td>29.06</td>\n      <td>-13.56</td>\n      <td>66.20</td>\n      <td>72</td>\n      <td>0</td>\n      <td>12.75</td>\n      <td>ES</td>\n      <td>2020-05-17 01:14:09</td>\n    </tr>\n    <tr>\n      <th>163</th>\n      <td>karpathos</td>\n      <td>35.51</td>\n      <td>27.21</td>\n      <td>73.40</td>\n      <td>64</td>\n      <td>0</td>\n      <td>12.75</td>\n      <td>GR</td>\n      <td>2020-05-17 01:14:11</td>\n    </tr>\n    <tr>\n      <th>167</th>\n      <td>el alto</td>\n      <td>-4.27</td>\n      <td>-81.21</td>\n      <td>69.67</td>\n      <td>79</td>\n      <td>10</td>\n      <td>16.02</td>\n      <td>PE</td>\n      <td>2020-05-17 01:14:12</td>\n    </tr>\n    <tr>\n      <th>180</th>\n      <td>butaritari</td>\n      <td>3.07</td>\n      <td>172.79</td>\n      <td>83.88</td>\n      <td>77</td>\n      <td>5</td>\n      <td>14.29</td>\n      <td>KI</td>\n      <td>2020-05-17 01:14:02</td>\n    </tr>\n    <tr>\n      <th>192</th>\n      <td>logansport</td>\n      <td>40.75</td>\n      <td>-86.36</td>\n      <td>69.71</td>\n      <td>77</td>\n      <td>75</td>\n      <td>12.75</td>\n      <td>US</td>\n      <td>2020-05-17 01:09:20</td>\n    </tr>\n    <tr>\n      <th>226</th>\n      <td>chuy</td>\n      <td>-33.70</td>\n      <td>-53.46</td>\n      <td>62.67</td>\n      <td>70</td>\n      <td>0</td>\n      <td>13.18</td>\n      <td>UY</td>\n      <td>2020-05-17 01:14:28</td>\n    </tr>\n    <tr>\n      <th>227</th>\n      <td>artyom</td>\n      <td>40.47</td>\n      <td>50.33</td>\n      <td>62.60</td>\n      <td>77</td>\n      <td>0</td>\n      <td>29.97</td>\n      <td>AZ</td>\n      <td>2020-05-17 01:11:03</td>\n    </tr>\n    <tr>\n      <th>249</th>\n      <td>las palmas</td>\n      <td>28.42</td>\n      <td>-14.01</td>\n      <td>66.20</td>\n      <td>68</td>\n      <td>13</td>\n      <td>10.29</td>\n      <td>ES</td>\n      <td>2020-05-17 01:14:33</td>\n    </tr>\n    <tr>\n      <th>268</th>\n      <td>hithadhoo</td>\n      <td>-0.60</td>\n      <td>73.08</td>\n      <td>85.15</td>\n      <td>77</td>\n      <td>100</td>\n      <td>20.62</td>\n      <td>MV</td>\n      <td>2020-05-17 01:14:38</td>\n    </tr>\n    <tr>\n      <th>271</th>\n      <td>the valley</td>\n      <td>18.22</td>\n      <td>-63.06</td>\n      <td>81.10</td>\n      <td>69</td>\n      <td>20</td>\n      <td>13.87</td>\n      <td>AI</td>\n      <td>2020-05-17 01:14:39</td>\n    </tr>\n    <tr>\n      <th>299</th>\n      <td>lompoc</td>\n      <td>34.64</td>\n      <td>-120.46</td>\n      <td>63.28</td>\n      <td>63</td>\n      <td>1</td>\n      <td>13.87</td>\n      <td>US</td>\n      <td>2020-05-17 01:14:35</td>\n    </tr>\n    <tr>\n      <th>303</th>\n      <td>wanning</td>\n      <td>18.80</td>\n      <td>110.40</td>\n      <td>85.55</td>\n      <td>71</td>\n      <td>4</td>\n      <td>11.34</td>\n      <td>CN</td>\n      <td>2020-05-17 01:14:47</td>\n    </tr>\n    <tr>\n      <th>351</th>\n      <td>bubaque</td>\n      <td>11.28</td>\n      <td>-15.83</td>\n      <td>79.41</td>\n      <td>75</td>\n      <td>14</td>\n      <td>12.82</td>\n      <td>GW</td>\n      <td>2020-05-17 01:15:00</td>\n    </tr>\n    <tr>\n      <th>356</th>\n      <td>merauke</td>\n      <td>-8.47</td>\n      <td>140.33</td>\n      <td>80.74</td>\n      <td>78</td>\n      <td>100</td>\n      <td>15.68</td>\n      <td>ID</td>\n      <td>2020-05-17 01:15:02</td>\n    </tr>\n    <tr>\n      <th>410</th>\n      <td>portland</td>\n      <td>45.52</td>\n      <td>-122.68</td>\n      <td>62.98</td>\n      <td>71</td>\n      <td>100</td>\n      <td>10.51</td>\n      <td>US</td>\n      <td>2020-05-17 01:11:51</td>\n    </tr>\n    <tr>\n      <th>423</th>\n      <td>moroni</td>\n      <td>-11.70</td>\n      <td>43.26</td>\n      <td>76.98</td>\n      <td>73</td>\n      <td>7</td>\n      <td>19.10</td>\n      <td>KM</td>\n      <td>2020-05-17 01:15:20</td>\n    </tr>\n    <tr>\n      <th>438</th>\n      <td>kavaratti</td>\n      <td>10.57</td>\n      <td>72.64</td>\n      <td>85.48</td>\n      <td>79</td>\n      <td>94</td>\n      <td>14.54</td>\n      <td>IN</td>\n      <td>2020-05-17 01:14:48</td>\n    </tr>\n    <tr>\n      <th>439</th>\n      <td>nhulunbuy</td>\n      <td>-12.23</td>\n      <td>136.77</td>\n      <td>80.60</td>\n      <td>74</td>\n      <td>90</td>\n      <td>16.11</td>\n      <td>AU</td>\n      <td>2020-05-17 01:15:24</td>\n    </tr>\n    <tr>\n      <th>454</th>\n      <td>saint-georges</td>\n      <td>12.06</td>\n      <td>-61.75</td>\n      <td>82.40</td>\n      <td>78</td>\n      <td>40</td>\n      <td>23.04</td>\n      <td>GD</td>\n      <td>2020-05-17 01:15:28</td>\n    </tr>\n    <tr>\n      <th>466</th>\n      <td>nkhotakota</td>\n      <td>-12.93</td>\n      <td>34.30</td>\n      <td>67.35</td>\n      <td>64</td>\n      <td>0</td>\n      <td>11.95</td>\n      <td>MW</td>\n      <td>2020-05-17 01:15:31</td>\n    </tr>\n    <tr>\n      <th>468</th>\n      <td>tairua</td>\n      <td>-37.02</td>\n      <td>175.85</td>\n      <td>64.99</td>\n      <td>68</td>\n      <td>58</td>\n      <td>11.99</td>\n      <td>NZ</td>\n      <td>2020-05-17 01:15:31</td>\n    </tr>\n    <tr>\n      <th>500</th>\n      <td>mitsamiouli</td>\n      <td>-11.38</td>\n      <td>43.28</td>\n      <td>79.32</td>\n      <td>71</td>\n      <td>1</td>\n      <td>19.60</td>\n      <td>KM</td>\n      <td>2020-05-17 01:15:39</td>\n    </tr>\n    <tr>\n      <th>510</th>\n      <td>sechura</td>\n      <td>-5.56</td>\n      <td>-80.82</td>\n      <td>72.09</td>\n      <td>70</td>\n      <td>0</td>\n      <td>15.61</td>\n      <td>PE</td>\n      <td>2020-05-17 01:15:42</td>\n    </tr>\n    <tr>\n      <th>526</th>\n      <td>nouadhibou</td>\n      <td>20.93</td>\n      <td>-17.03</td>\n      <td>66.20</td>\n      <td>72</td>\n      <td>44</td>\n      <td>20.80</td>\n      <td>MR</td>\n      <td>2020-05-17 01:15:46</td>\n    </tr>\n    <tr>\n      <th>535</th>\n      <td>tadine</td>\n      <td>-21.55</td>\n      <td>167.88</td>\n      <td>74.19</td>\n      <td>69</td>\n      <td>100</td>\n      <td>12.12</td>\n      <td>NC</td>\n      <td>2020-05-17 01:15:48</td>\n    </tr>\n    <tr>\n      <th>536</th>\n      <td>sosua</td>\n      <td>19.77</td>\n      <td>-70.52</td>\n      <td>82.18</td>\n      <td>74</td>\n      <td>40</td>\n      <td>11.41</td>\n      <td>DO</td>\n      <td>2020-05-17 01:15:48</td>\n    </tr>\n    <tr>\n      <th>566</th>\n      <td>pandan</td>\n      <td>14.05</td>\n      <td>124.17</td>\n      <td>85.55</td>\n      <td>72</td>\n      <td>84</td>\n      <td>10.13</td>\n      <td>PH</td>\n      <td>2020-05-17 01:15:56</td>\n    </tr>\n  </tbody>\n</table>\n</div>"
     },
     "metadata": {},
     "execution_count": 52
    }
   ],
   "source": [
    "temp_df = city_data_df[(city_data_df['Max Temp'] < 90)  & (city_data_df['Max Temp'] > 60)]\n",
    "temp_df = temp_df[(temp_df['Humidity'] < 80)  & (temp_df['Humidity'] > 60)]\n",
    "temp_df = temp_df[(temp_df['Wind Speed'] < 40)  & (temp_df['Wind Speed'] > 10)]\n",
    "temp_df = temp_df.dropna()\n",
    "temp_df"
   ]
  },
  {
   "cell_type": "markdown",
   "metadata": {},
   "source": [
    "### Hotel Map\n",
    "* Store into variable named `hotel_df`.\n",
    "* Add a \"Hotel Name\" column to the DataFrame.\n",
    "* Set parameters to search for hotels with 5000 meters.\n",
    "* Hit the Google Places API for each city's coordinates.\n",
    "* Store the first Hotel result into the DataFrame.\n",
    "* Plot markers on top of the heatmap."
   ]
  },
  {
   "cell_type": "code",
   "execution_count": 53,
   "metadata": {
    "tags": [
     "outputPrepend",
     "outputPrepend",
     "outputPrepend",
     "outputPrepend"
    ]
   },
   "outputs": [
    {
     "output_type": "stream",
     "name": "stdout",
     "text": "--------\navarua\n4.1\nThe Edgewater Resort and Spa\nArorangi District\n--------\ntiarei\n4.3\nLe Rocher de Tahiti\nFaananu\n--------\nmaningrida\n4.3\nDhukurrdji Lodge\nManingrida\n--------\natuona\n0\nSimplicité Marquises\nHiva Oa\n--------\nsanta marta\n4.5\nMasaya Hostel Santa Marta\nDistrito Turístico Cultural E Histórico, Cl. 14 ##4 - 80\n--------\niralaya\n###list index out of range###\n### No hotel(S) found for city: iralaya. Skipping...\nTraceback (most recent call last):\n  File \"<ipython-input-53-4bff4fa02196>\", line 43, in <module>\n    hotels.append(results[\"results\"][0][\"name\"])\nIndexError: list index out of range\n\n--------\nsan patricio\n4.5\nHotel Hacienda de Melaque\nMorelos 49, Centro, San Patricio\n--------\nisangel\n0\nQuarumanu area\nLoanengo village, Tanna Island\n--------\ncidreira\n4.6\nPond Country Club\nEstrada RS 784 KM 7 - Lagoa Country Club, Cidreira\n--------\npuro\n###list index out of range###\n### No hotel(S) found for city: puro. Skipping...\nTraceback (most recent call last):\n  File \"<ipython-input-53-4bff4fa02196>\", line 43, in <module>\n    hotels.append(results[\"results\"][0][\"name\"])\nIndexError: list index out of range\n\n--------\nlishu\n0\n梨树韩州宾馆\n梨树前进大街与经开大路交汇公安局旁\n--------\nkapaa\n4.1\nSheraton Kauai Resort at Coconut Beach\n650 Aleka Loop, Kapaʻa\n--------\nlorengau\n3.5\nSeeadler Bay Hotel\nLot 31 Section 31, Lorengau 641\n--------\narraial do cabo\n4.1\nOrlanova Hotel\nAv. Beira Mar, 111 - Prainha, Arraial do Cabo\n--------\nbathsheba\n4.7\nECO Lifestyle & Lodge\nTent Bay, Bathsheba\n--------\nvao\n4.4\nOURE TERA beach resort\nKuto\n--------\nkismayo\n5\nFadlulah Hotel\nKismayo\n--------\nugoofaaru\n4.3\nUngoofaaru Inn\nHaveeree Hingun, Ungoofaaru\n--------\noranjestad\n4.5\nCasa Del Mar Beach Resort\nJ.E. Irausquin Blvd 51, Oranjestad\n--------\noistins\n4.5\nBougainvillea Beach Resort\nMaxwell Coast Rd, Oistins\n--------\nteguise\n5\nPalacio de La Villa\nCalle el Rayo, 2, Teguise\n--------\nkarpathos\n4.2\nBlue Bay Hotel\nKarpathos\n--------\nel alto\n###list index out of range###\n### No hotel(S) found for city: el alto. Skipping...\nTraceback (most recent call last):\n  File \"<ipython-input-53-4bff4fa02196>\", line 43, in <module>\n    hotels.append(results[\"results\"][0][\"name\"])\nIndexError: list index out of range\n\n--------\nbutaritari\n4\nIsles Sunset Lodge\nKiribati\n--------\nlogansport\n4.2\nHoliday Inn Express & Suites Logansport\n3939 E Market St, Logansport\n--------\nchuy\n4.2\nBertelli Chuí Hotel\nRodovia BR-471 s/n - Centro, Chuí\n--------\nartyom\n3.9\nF marine resort\nОстров Пираллахи\n--------\nlas palmas\n3.5\nCasa Princess Arminda\nBetancuria\n--------\nhithadhoo\n4.7\nPebbles Inn\nLink Road, Addu City\n--------\nthe valley\n4.7\nZemi Beach House, LXR Hotels & Resorts\nShoal Bay East, Shoal Bay Village\n--------\nlompoc\n4.1\nEmbassy Suites by Hilton Lompoc Central Coast\n1117 N H St, Lompoc\n--------\nwanning\n0\nWanning Hotel\nWanning, Wenming N Rd, 文明北街\n--------\nbubaque\n4.5\nPonta Anchaca\nArchipel des Bijagos, Rubane\n--------\nmerauke\n###list index out of range###\n### No hotel(S) found for city: merauke. Skipping...\nTraceback (most recent call last):\n  File \"<ipython-input-53-4bff4fa02196>\", line 43, in <module>\n    hotels.append(results[\"results\"][0][\"name\"])\nIndexError: list index out of range\n\n--------\nportland\n3.9\nRiver's Edge Hotel\n0455 SW Hamilton Ct, Portland\n--------\nmoroni\n4.1\nGolden Tulip Grande Comore Moroni Resort & Spa\nRN1, Voidjou، Moroni\n--------\nkavaratti\n4\nBismillah Hotel And Lodging\nKavaratti\n--------\nnhulunbuy\n3.9\nWalkabout Lodge & Tavern\n12 Westal St, Nhulunbuy\n--------\nsaint-georges\n4.3\nRadisson Grenada Beach Resort\nGrand Anse Beach, Grand Anse, St George's\n--------\nnkhotakota\n4.2\nSitima Inn\nNkhotakota\n--------\ntairua\n4.5\nGrand Mercure Puka Park Resort\n42 Mount Ave, Pauanui\n--------\nmitsamiouli\n3\nMoina Lisa\nRN 1, Fassi\n--------\nsechura\n3.4\nHotel Loma Dorada\nMz o1 Lt 8, Sechura\n--------\nnouadhibou\n4.7\nFree Zone Hotel Nouadhibou\nUnnamed Road\n--------\ntadine\n###list index out of range###\n### No hotel(S) found for city: tadine. Skipping...\nTraceback (most recent call last):\n  File \"<ipython-input-53-4bff4fa02196>\", line 43, in <module>\n    hotels.append(results[\"results\"][0][\"name\"])\nIndexError: list index out of range\n\n--------\nsosua\n4.4\nSosua by the Sea\nAvenida Proyecto #1, Sosúa\n--------\npandan\n3.5\nBonifacio Lodge\nPandan\n"
    }
   ],
   "source": [
    "lat = []\n",
    "lng = []\n",
    "hotels = []\n",
    "cities = []\n",
    "countries = []\n",
    "vicinities = []\n",
    "ratings = []\n",
    "\n",
    "for index, row in temp_df.iterrows():\n",
    "    print(\"--------\")\n",
    "    print(row['City'])\n",
    "\n",
    "    # geocoordinates\n",
    "    target_coordinates = (f\"{row['Lat']}, {row['Lng']}\")\n",
    "    target_search = \"hotel\"\n",
    "    target_radius = 5000\n",
    "    target_type = \"hotel\"\n",
    "    target_rank = \"rating\"\n",
    "\n",
    "    # set up a parameters dictionary\n",
    "    params = {\n",
    "        \"location\": target_coordinates,\n",
    "        \"keyword\": target_search,\n",
    "        \"radius\": target_radius,\n",
    "        \"type\": target_type,\n",
    "        \"rankBy\": target_rank,\n",
    "        \"key\": g_key\n",
    "    }\n",
    "\n",
    "    try:\n",
    "        # base url\n",
    "        base_url = \"https://maps.googleapis.com/maps/api/place/nearbysearch/json\"\n",
    "\n",
    "        # run a request using our params dictionary\n",
    "        response = requests.get(base_url, params=params)\n",
    "        #print(response.url)\n",
    "        # convert response to json\n",
    "        results = response.json()\n",
    "        #print(response.json())\n",
    "        # Print the json (pretty printed)\n",
    "        #print(json.dumps(results, indent=4, sort_keys=True))\n",
    "\n",
    "        hotels.append(results[\"results\"][0][\"name\"])\n",
    "        lat.append(row['Lat'])\n",
    "        lng.append(row['Lng'])\n",
    "        cities.append(row['City'])\n",
    "        countries.append(row['Country'])\n",
    "        vicinities.append(results[\"results\"][0][\"vicinity\"])\n",
    "        ratings.append(results[\"results\"][0][\"rating\"])\n",
    "\n",
    "        print(results[\"results\"][0][\"rating\"])\n",
    "        print(results[\"results\"][0][\"name\"])\n",
    "        print(results[\"results\"][0][\"vicinity\"])\n",
    "        \n",
    "    except Exception as e:\n",
    "        print(f\"###{e}###\")\n",
    "        print(f\"### No hotel(S) found for city: {row['City']}. Skipping...\")\n",
    "        print(traceback.format_exc())"
   ]
  },
  {
   "cell_type": "code",
   "execution_count": 54,
   "metadata": {
    "tags": [
     "outputPrepend"
    ]
   },
   "outputs": [
    {
     "output_type": "execute_result",
     "data": {
      "text/plain": "                                        Hotel Name             City Country  \\\n0                     The Edgewater Resort and Spa           avarua      CK   \n1                              Le Rocher de Tahiti           tiarei      PF   \n2                                 Dhukurrdji Lodge       maningrida      AU   \n3                             Simplicité Marquises           atuona      PF   \n4                        Masaya Hostel Santa Marta      santa marta      CO   \n5                        Hotel Hacienda de Melaque     san patricio      MX   \n6                                   Quarumanu area          isangel      VU   \n7                                Pond Country Club         cidreira      BR   \n8                                           梨树韩州宾馆            lishu      CN   \n9           Sheraton Kauai Resort at Coconut Beach            kapaa      US   \n10                              Seeadler Bay Hotel         lorengau      PG   \n11                                  Orlanova Hotel  arraial do cabo      BR   \n12                           ECO Lifestyle & Lodge        bathsheba      BB   \n13                          OURE TERA beach resort              vao      NC   \n14                                  Fadlulah Hotel          kismayo      SO   \n15                                  Ungoofaaru Inn        ugoofaaru      MV   \n16                       Casa Del Mar Beach Resort       oranjestad      AW   \n17                      Bougainvillea Beach Resort          oistins      BB   \n18                             Palacio de La Villa          teguise      ES   \n19                                  Blue Bay Hotel        karpathos      GR   \n20                              Isles Sunset Lodge       butaritari      KI   \n21         Holiday Inn Express & Suites Logansport       logansport      US   \n22                             Bertelli Chuí Hotel             chuy      UY   \n23                                 F marine resort           artyom      AZ   \n24                           Casa Princess Arminda       las palmas      ES   \n25                                     Pebbles Inn        hithadhoo      MV   \n26          Zemi Beach House, LXR Hotels & Resorts       the valley      AI   \n27   Embassy Suites by Hilton Lompoc Central Coast           lompoc      US   \n28                                   Wanning Hotel          wanning      CN   \n29                                   Ponta Anchaca          bubaque      GW   \n30                              River's Edge Hotel         portland      US   \n31  Golden Tulip Grande Comore Moroni Resort & Spa           moroni      KM   \n32                     Bismillah Hotel And Lodging        kavaratti      IN   \n33                        Walkabout Lodge & Tavern        nhulunbuy      AU   \n34                   Radisson Grenada Beach Resort    saint-georges      GD   \n35                                      Sitima Inn       nkhotakota      MW   \n36                  Grand Mercure Puka Park Resort           tairua      NZ   \n37                                      Moina Lisa      mitsamiouli      KM   \n38                               Hotel Loma Dorada          sechura      PE   \n39                      Free Zone Hotel Nouadhibou       nouadhibou      MR   \n40                                Sosua by the Sea            sosua      DO   \n41                                 Bonifacio Lodge           pandan      PH   \n\n      Lat     Lng                                           Vicinity  Rating  \n0  -21.21 -159.78                                  Arorangi District     4.1  \n1  -17.53 -149.33                                            Faananu     4.3  \n2  -12.07  134.27                                         Maningrida     4.3  \n3   -9.80 -139.03                                            Hiva Oa     0.0  \n4   11.24  -74.20  Distrito Turístico Cultural E Histórico, Cl. 1...     4.5  \n5   19.22 -104.70                   Morelos 49, Centro, San Patricio     4.5  \n6  -19.55  169.27                     Loanengo village, Tanna Island     0.0  \n7  -30.18  -50.21  Estrada RS 784 KM 7 - Lagoa Country Club, Cidr...     4.6  \n8   43.30  124.33                                  梨树前进大街与经开大路交汇公安局旁     0.0  \n9   22.08 -159.32                             650 Aleka Loop, Kapaʻa     4.1  \n10  -2.02  147.27                    Lot 31 Section 31, Lorengau 641     3.5  \n11 -22.97  -42.03      Av. Beira Mar, 111 - Prainha, Arraial do Cabo     4.1  \n12  13.22  -59.52                                Tent Bay, Bathsheba     4.7  \n13 -22.67  167.48                                               Kuto     4.4  \n14  -0.36   42.55                                            Kismayo     5.0  \n15   5.67   73.00                        Haveeree Hingun, Ungoofaaru     4.3  \n16  12.52  -70.03                 J.E. Irausquin Blvd 51, Oranjestad     4.5  \n17  13.07  -59.53                          Maxwell Coast Rd, Oistins     4.5  \n18  29.06  -13.56                          Calle el Rayo, 2, Teguise     5.0  \n19  35.51   27.21                                          Karpathos     4.2  \n20   3.07  172.79                                           Kiribati     4.0  \n21  40.75  -86.36                       3939 E Market St, Logansport     4.2  \n22 -33.70  -53.46                  Rodovia BR-471 s/n - Centro, Chuí     4.2  \n23  40.47   50.33                                   Остров Пираллахи     3.9  \n24  28.42  -14.01                                         Betancuria     3.5  \n25  -0.60   73.08                               Link Road, Addu City     4.7  \n26  18.22  -63.06                  Shoal Bay East, Shoal Bay Village     4.7  \n27  34.64 -120.46                                1117 N H St, Lompoc     4.1  \n28  18.80  110.40                        Wanning, Wenming N Rd, 文明北街     0.0  \n29  11.28  -15.83                       Archipel des Bijagos, Rubane     4.5  \n30  45.52 -122.68                      0455 SW Hamilton Ct, Portland     3.9  \n31 -11.70   43.26                               RN1, Voidjou، Moroni     4.1  \n32  10.57   72.64                                          Kavaratti     4.0  \n33 -12.23  136.77                            12 Westal St, Nhulunbuy     3.9  \n34  12.06  -61.75          Grand Anse Beach, Grand Anse, St George's     4.3  \n35 -12.93   34.30                                         Nkhotakota     4.2  \n36 -37.02  175.85                              42 Mount Ave, Pauanui     4.5  \n37 -11.38   43.28                                        RN 1, Fassi     3.0  \n38  -5.56  -80.82                                Mz o1 Lt 8, Sechura     3.4  \n39  20.93  -17.03                                       Unnamed Road     4.7  \n40  19.77  -70.52                         Avenida Proyecto #1, Sosúa     4.4  \n41  14.05  124.17                                             Pandan     3.5  ",
      "text/html": "<div>\n<style scoped>\n    .dataframe tbody tr th:only-of-type {\n        vertical-align: middle;\n    }\n\n    .dataframe tbody tr th {\n        vertical-align: top;\n    }\n\n    .dataframe thead th {\n        text-align: right;\n    }\n</style>\n<table border=\"1\" class=\"dataframe\">\n  <thead>\n    <tr style=\"text-align: right;\">\n      <th></th>\n      <th>Hotel Name</th>\n      <th>City</th>\n      <th>Country</th>\n      <th>Lat</th>\n      <th>Lng</th>\n      <th>Vicinity</th>\n      <th>Rating</th>\n    </tr>\n  </thead>\n  <tbody>\n    <tr>\n      <th>0</th>\n      <td>The Edgewater Resort and Spa</td>\n      <td>avarua</td>\n      <td>CK</td>\n      <td>-21.21</td>\n      <td>-159.78</td>\n      <td>Arorangi District</td>\n      <td>4.1</td>\n    </tr>\n    <tr>\n      <th>1</th>\n      <td>Le Rocher de Tahiti</td>\n      <td>tiarei</td>\n      <td>PF</td>\n      <td>-17.53</td>\n      <td>-149.33</td>\n      <td>Faananu</td>\n      <td>4.3</td>\n    </tr>\n    <tr>\n      <th>2</th>\n      <td>Dhukurrdji Lodge</td>\n      <td>maningrida</td>\n      <td>AU</td>\n      <td>-12.07</td>\n      <td>134.27</td>\n      <td>Maningrida</td>\n      <td>4.3</td>\n    </tr>\n    <tr>\n      <th>3</th>\n      <td>Simplicité Marquises</td>\n      <td>atuona</td>\n      <td>PF</td>\n      <td>-9.80</td>\n      <td>-139.03</td>\n      <td>Hiva Oa</td>\n      <td>0.0</td>\n    </tr>\n    <tr>\n      <th>4</th>\n      <td>Masaya Hostel Santa Marta</td>\n      <td>santa marta</td>\n      <td>CO</td>\n      <td>11.24</td>\n      <td>-74.20</td>\n      <td>Distrito Turístico Cultural E Histórico, Cl. 1...</td>\n      <td>4.5</td>\n    </tr>\n    <tr>\n      <th>5</th>\n      <td>Hotel Hacienda de Melaque</td>\n      <td>san patricio</td>\n      <td>MX</td>\n      <td>19.22</td>\n      <td>-104.70</td>\n      <td>Morelos 49, Centro, San Patricio</td>\n      <td>4.5</td>\n    </tr>\n    <tr>\n      <th>6</th>\n      <td>Quarumanu area</td>\n      <td>isangel</td>\n      <td>VU</td>\n      <td>-19.55</td>\n      <td>169.27</td>\n      <td>Loanengo village, Tanna Island</td>\n      <td>0.0</td>\n    </tr>\n    <tr>\n      <th>7</th>\n      <td>Pond Country Club</td>\n      <td>cidreira</td>\n      <td>BR</td>\n      <td>-30.18</td>\n      <td>-50.21</td>\n      <td>Estrada RS 784 KM 7 - Lagoa Country Club, Cidr...</td>\n      <td>4.6</td>\n    </tr>\n    <tr>\n      <th>8</th>\n      <td>梨树韩州宾馆</td>\n      <td>lishu</td>\n      <td>CN</td>\n      <td>43.30</td>\n      <td>124.33</td>\n      <td>梨树前进大街与经开大路交汇公安局旁</td>\n      <td>0.0</td>\n    </tr>\n    <tr>\n      <th>9</th>\n      <td>Sheraton Kauai Resort at Coconut Beach</td>\n      <td>kapaa</td>\n      <td>US</td>\n      <td>22.08</td>\n      <td>-159.32</td>\n      <td>650 Aleka Loop, Kapaʻa</td>\n      <td>4.1</td>\n    </tr>\n    <tr>\n      <th>10</th>\n      <td>Seeadler Bay Hotel</td>\n      <td>lorengau</td>\n      <td>PG</td>\n      <td>-2.02</td>\n      <td>147.27</td>\n      <td>Lot 31 Section 31, Lorengau 641</td>\n      <td>3.5</td>\n    </tr>\n    <tr>\n      <th>11</th>\n      <td>Orlanova Hotel</td>\n      <td>arraial do cabo</td>\n      <td>BR</td>\n      <td>-22.97</td>\n      <td>-42.03</td>\n      <td>Av. Beira Mar, 111 - Prainha, Arraial do Cabo</td>\n      <td>4.1</td>\n    </tr>\n    <tr>\n      <th>12</th>\n      <td>ECO Lifestyle &amp; Lodge</td>\n      <td>bathsheba</td>\n      <td>BB</td>\n      <td>13.22</td>\n      <td>-59.52</td>\n      <td>Tent Bay, Bathsheba</td>\n      <td>4.7</td>\n    </tr>\n    <tr>\n      <th>13</th>\n      <td>OURE TERA beach resort</td>\n      <td>vao</td>\n      <td>NC</td>\n      <td>-22.67</td>\n      <td>167.48</td>\n      <td>Kuto</td>\n      <td>4.4</td>\n    </tr>\n    <tr>\n      <th>14</th>\n      <td>Fadlulah Hotel</td>\n      <td>kismayo</td>\n      <td>SO</td>\n      <td>-0.36</td>\n      <td>42.55</td>\n      <td>Kismayo</td>\n      <td>5.0</td>\n    </tr>\n    <tr>\n      <th>15</th>\n      <td>Ungoofaaru Inn</td>\n      <td>ugoofaaru</td>\n      <td>MV</td>\n      <td>5.67</td>\n      <td>73.00</td>\n      <td>Haveeree Hingun, Ungoofaaru</td>\n      <td>4.3</td>\n    </tr>\n    <tr>\n      <th>16</th>\n      <td>Casa Del Mar Beach Resort</td>\n      <td>oranjestad</td>\n      <td>AW</td>\n      <td>12.52</td>\n      <td>-70.03</td>\n      <td>J.E. Irausquin Blvd 51, Oranjestad</td>\n      <td>4.5</td>\n    </tr>\n    <tr>\n      <th>17</th>\n      <td>Bougainvillea Beach Resort</td>\n      <td>oistins</td>\n      <td>BB</td>\n      <td>13.07</td>\n      <td>-59.53</td>\n      <td>Maxwell Coast Rd, Oistins</td>\n      <td>4.5</td>\n    </tr>\n    <tr>\n      <th>18</th>\n      <td>Palacio de La Villa</td>\n      <td>teguise</td>\n      <td>ES</td>\n      <td>29.06</td>\n      <td>-13.56</td>\n      <td>Calle el Rayo, 2, Teguise</td>\n      <td>5.0</td>\n    </tr>\n    <tr>\n      <th>19</th>\n      <td>Blue Bay Hotel</td>\n      <td>karpathos</td>\n      <td>GR</td>\n      <td>35.51</td>\n      <td>27.21</td>\n      <td>Karpathos</td>\n      <td>4.2</td>\n    </tr>\n    <tr>\n      <th>20</th>\n      <td>Isles Sunset Lodge</td>\n      <td>butaritari</td>\n      <td>KI</td>\n      <td>3.07</td>\n      <td>172.79</td>\n      <td>Kiribati</td>\n      <td>4.0</td>\n    </tr>\n    <tr>\n      <th>21</th>\n      <td>Holiday Inn Express &amp; Suites Logansport</td>\n      <td>logansport</td>\n      <td>US</td>\n      <td>40.75</td>\n      <td>-86.36</td>\n      <td>3939 E Market St, Logansport</td>\n      <td>4.2</td>\n    </tr>\n    <tr>\n      <th>22</th>\n      <td>Bertelli Chuí Hotel</td>\n      <td>chuy</td>\n      <td>UY</td>\n      <td>-33.70</td>\n      <td>-53.46</td>\n      <td>Rodovia BR-471 s/n - Centro, Chuí</td>\n      <td>4.2</td>\n    </tr>\n    <tr>\n      <th>23</th>\n      <td>F marine resort</td>\n      <td>artyom</td>\n      <td>AZ</td>\n      <td>40.47</td>\n      <td>50.33</td>\n      <td>Остров Пираллахи</td>\n      <td>3.9</td>\n    </tr>\n    <tr>\n      <th>24</th>\n      <td>Casa Princess Arminda</td>\n      <td>las palmas</td>\n      <td>ES</td>\n      <td>28.42</td>\n      <td>-14.01</td>\n      <td>Betancuria</td>\n      <td>3.5</td>\n    </tr>\n    <tr>\n      <th>25</th>\n      <td>Pebbles Inn</td>\n      <td>hithadhoo</td>\n      <td>MV</td>\n      <td>-0.60</td>\n      <td>73.08</td>\n      <td>Link Road, Addu City</td>\n      <td>4.7</td>\n    </tr>\n    <tr>\n      <th>26</th>\n      <td>Zemi Beach House, LXR Hotels &amp; Resorts</td>\n      <td>the valley</td>\n      <td>AI</td>\n      <td>18.22</td>\n      <td>-63.06</td>\n      <td>Shoal Bay East, Shoal Bay Village</td>\n      <td>4.7</td>\n    </tr>\n    <tr>\n      <th>27</th>\n      <td>Embassy Suites by Hilton Lompoc Central Coast</td>\n      <td>lompoc</td>\n      <td>US</td>\n      <td>34.64</td>\n      <td>-120.46</td>\n      <td>1117 N H St, Lompoc</td>\n      <td>4.1</td>\n    </tr>\n    <tr>\n      <th>28</th>\n      <td>Wanning Hotel</td>\n      <td>wanning</td>\n      <td>CN</td>\n      <td>18.80</td>\n      <td>110.40</td>\n      <td>Wanning, Wenming N Rd, 文明北街</td>\n      <td>0.0</td>\n    </tr>\n    <tr>\n      <th>29</th>\n      <td>Ponta Anchaca</td>\n      <td>bubaque</td>\n      <td>GW</td>\n      <td>11.28</td>\n      <td>-15.83</td>\n      <td>Archipel des Bijagos, Rubane</td>\n      <td>4.5</td>\n    </tr>\n    <tr>\n      <th>30</th>\n      <td>River's Edge Hotel</td>\n      <td>portland</td>\n      <td>US</td>\n      <td>45.52</td>\n      <td>-122.68</td>\n      <td>0455 SW Hamilton Ct, Portland</td>\n      <td>3.9</td>\n    </tr>\n    <tr>\n      <th>31</th>\n      <td>Golden Tulip Grande Comore Moroni Resort &amp; Spa</td>\n      <td>moroni</td>\n      <td>KM</td>\n      <td>-11.70</td>\n      <td>43.26</td>\n      <td>RN1, Voidjou، Moroni</td>\n      <td>4.1</td>\n    </tr>\n    <tr>\n      <th>32</th>\n      <td>Bismillah Hotel And Lodging</td>\n      <td>kavaratti</td>\n      <td>IN</td>\n      <td>10.57</td>\n      <td>72.64</td>\n      <td>Kavaratti</td>\n      <td>4.0</td>\n    </tr>\n    <tr>\n      <th>33</th>\n      <td>Walkabout Lodge &amp; Tavern</td>\n      <td>nhulunbuy</td>\n      <td>AU</td>\n      <td>-12.23</td>\n      <td>136.77</td>\n      <td>12 Westal St, Nhulunbuy</td>\n      <td>3.9</td>\n    </tr>\n    <tr>\n      <th>34</th>\n      <td>Radisson Grenada Beach Resort</td>\n      <td>saint-georges</td>\n      <td>GD</td>\n      <td>12.06</td>\n      <td>-61.75</td>\n      <td>Grand Anse Beach, Grand Anse, St George's</td>\n      <td>4.3</td>\n    </tr>\n    <tr>\n      <th>35</th>\n      <td>Sitima Inn</td>\n      <td>nkhotakota</td>\n      <td>MW</td>\n      <td>-12.93</td>\n      <td>34.30</td>\n      <td>Nkhotakota</td>\n      <td>4.2</td>\n    </tr>\n    <tr>\n      <th>36</th>\n      <td>Grand Mercure Puka Park Resort</td>\n      <td>tairua</td>\n      <td>NZ</td>\n      <td>-37.02</td>\n      <td>175.85</td>\n      <td>42 Mount Ave, Pauanui</td>\n      <td>4.5</td>\n    </tr>\n    <tr>\n      <th>37</th>\n      <td>Moina Lisa</td>\n      <td>mitsamiouli</td>\n      <td>KM</td>\n      <td>-11.38</td>\n      <td>43.28</td>\n      <td>RN 1, Fassi</td>\n      <td>3.0</td>\n    </tr>\n    <tr>\n      <th>38</th>\n      <td>Hotel Loma Dorada</td>\n      <td>sechura</td>\n      <td>PE</td>\n      <td>-5.56</td>\n      <td>-80.82</td>\n      <td>Mz o1 Lt 8, Sechura</td>\n      <td>3.4</td>\n    </tr>\n    <tr>\n      <th>39</th>\n      <td>Free Zone Hotel Nouadhibou</td>\n      <td>nouadhibou</td>\n      <td>MR</td>\n      <td>20.93</td>\n      <td>-17.03</td>\n      <td>Unnamed Road</td>\n      <td>4.7</td>\n    </tr>\n    <tr>\n      <th>40</th>\n      <td>Sosua by the Sea</td>\n      <td>sosua</td>\n      <td>DO</td>\n      <td>19.77</td>\n      <td>-70.52</td>\n      <td>Avenida Proyecto #1, Sosúa</td>\n      <td>4.4</td>\n    </tr>\n    <tr>\n      <th>41</th>\n      <td>Bonifacio Lodge</td>\n      <td>pandan</td>\n      <td>PH</td>\n      <td>14.05</td>\n      <td>124.17</td>\n      <td>Pandan</td>\n      <td>3.5</td>\n    </tr>\n  </tbody>\n</table>\n</div>"
     },
     "metadata": {},
     "execution_count": 54
    }
   ],
   "source": [
    "hotel_df = pd.DataFrame({'Hotel Name':hotels,\n",
    "                        'City':cities,\n",
    "                        'Country':countries,\n",
    "                        'Lat':lat,\n",
    "                        'Lng':lng,\n",
    "                        'Vicinity':vicinities,\n",
    "                        'Rating':ratings})\n",
    "hotel_df\n",
    "#hotel_df.sort_values(['Country'], ascending=True)"
   ]
  },
  {
   "cell_type": "code",
   "execution_count": 55,
   "metadata": {},
   "outputs": [],
   "source": [
    "# NOTE: Do not change any of the code in this cell\n",
    "\n",
    "# Using the template add the hotel marks to the heatmap\n",
    "info_box_template = \"\"\"\n",
    "<dl>\n",
    "<dt>Name</dt><dd>{Hotel Name}</dd>\n",
    "<dt>City</dt><dd>{City}</dd>\n",
    "<dt>Country</dt><dd>{Country}</dd>\n",
    "</dl>\n",
    "\"\"\"\n",
    "# Store the DataFrame Row\n",
    "# NOTE: be sure to update with your DataFrame name\n",
    "hotel_info = [info_box_template.format(**row) for index, row in hotel_df.iterrows()]\n",
    "locations = hotel_df[[\"Lat\", \"Lng\"]]"
   ]
  },
  {
   "cell_type": "code",
   "execution_count": 58,
   "metadata": {},
   "outputs": [
    {
     "output_type": "display_data",
     "data": {
      "text/plain": "Figure(layout=FigureLayout(height='420px'))",
      "application/vnd.jupyter.widget-view+json": {
       "version_major": 2,
       "version_minor": 0,
       "model_id": "97822210479c43bbb3d59d6acd64625d"
      }
     },
     "metadata": {}
    }
   ],
   "source": [
    "# Add marker layer ontop of heat map\n",
    "# Create hotel symbol layer\n",
    "hotel_layer = gmaps.marker_layer(locations,info_box_content=hotel_info)\n",
    "\n",
    "# display the combined figure\n",
    "fig.add_layer(heat_layer)\n",
    "fig.add_layer(hotel_layer)\n",
    "fig"
   ]
  },
  {
   "cell_type": "code",
   "execution_count": null,
   "metadata": {},
   "outputs": [],
   "source": []
  }
 ],
 "metadata": {
  "kernelspec": {
   "display_name": "Python 3",
   "language": "python",
   "name": "python3"
  },
  "language_info": {
   "codemirror_mode": {
    "name": "ipython",
    "version": 3
   },
   "file_extension": ".py",
   "mimetype": "text/x-python",
   "name": "python",
   "nbconvert_exporter": "python",
   "pygments_lexer": "ipython3",
   "version": "3.7.6-final"
  },
  "latex_envs": {
   "LaTeX_envs_menu_present": true,
   "autoclose": false,
   "autocomplete": true,
   "bibliofile": "biblio.bib",
   "cite_by": "apalike",
   "current_citInitial": 1,
   "eqLabelWithNumbers": true,
   "eqNumInitial": 1,
   "hotkeys": {
    "equation": "Ctrl-E",
    "itemize": "Ctrl-I"
   },
   "labels_anchors": false,
   "latex_user_defs": false,
   "report_style_numbering": false,
   "user_envs_cfg": false
  }
 },
 "nbformat": 4,
 "nbformat_minor": 2
}