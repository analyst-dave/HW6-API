{
 "cells": [
  {
   "cell_type": "markdown",
   "metadata": {},
   "source": [
    "# VacationPy\n",
    "----\n",
    "\n",
    "#### Note\n",
    "* Instructions have been included for each segment. You do not have to follow them exactly, but they are included to help you think through the steps."
   ]
  },
  {
   "cell_type": "code",
   "execution_count": 173,
   "metadata": {},
   "outputs": [],
   "source": [
    "# Dependencies and Setup\n",
    "import matplotlib.pyplot as plt\n",
    "import pandas as pd\n",
    "import numpy as np\n",
    "import requests\n",
    "import json\n",
    "import traceback\n",
    "import gmaps\n",
    "import os\n",
    "\n",
    "# Import API key\n",
    "from api_keys import g_key"
   ]
  },
  {
   "cell_type": "code",
   "execution_count": null,
   "metadata": {},
   "outputs": [],
   "source": [
    "### Store Part I results into DataFrame\n",
    "# * Load the csv exported in Part I to a DataFrame"
   ]
  },
  {
   "cell_type": "code",
   "execution_count": 174,
   "metadata": {},
   "outputs": [
    {
     "output_type": "execute_result",
     "data": {
      "text/plain": "               City    Lat     Lng  Max Temp  Humidity  Cloudiness  \\\n0        georgetown   5.41  100.34     88.25        74          20   \n1      punta arenas -53.15  -70.92     37.20        93          20   \n2    cabo san lucas  22.89 -109.91     75.40        44           0   \n3         mahebourg -20.41   57.70     71.60        83          20   \n4          am timan  11.03   20.28     83.53        39          95   \n..              ...    ...     ...       ...       ...         ...   \n557        penzance  50.12   -5.54     44.94        87           0   \n558       tecoanapa  16.52  -98.75     79.59        70           0   \n559          kupang -10.17  123.58     87.80        62          75   \n560   kazachinskoye  57.70   93.28     55.31        42         100   \n561     green river  41.53 -109.47     44.60        75          75   \n\n     Wind Speed Country                 Date  \n0         10.29      MY  2020-05-15 04:48:15  \n1          4.70      CL  2020-05-15 04:49:58  \n2         16.11      MX  2020-05-15 04:45:14  \n3          5.82      MU  2020-05-15 04:49:58  \n4          7.09      TD  2020-05-15 04:49:58  \n..          ...     ...                  ...  \n557       10.29      GB  2020-05-15 04:52:33  \n558        2.26      MX  2020-05-15 04:52:34  \n559       21.92      ID  2020-05-15 04:51:43  \n560        5.75      RU  2020-05-15 04:52:34  \n561        5.82      US  2020-05-15 04:52:34  \n\n[562 rows x 9 columns]",
      "text/html": "<div>\n<style scoped>\n    .dataframe tbody tr th:only-of-type {\n        vertical-align: middle;\n    }\n\n    .dataframe tbody tr th {\n        vertical-align: top;\n    }\n\n    .dataframe thead th {\n        text-align: right;\n    }\n</style>\n<table border=\"1\" class=\"dataframe\">\n  <thead>\n    <tr style=\"text-align: right;\">\n      <th></th>\n      <th>City</th>\n      <th>Lat</th>\n      <th>Lng</th>\n      <th>Max Temp</th>\n      <th>Humidity</th>\n      <th>Cloudiness</th>\n      <th>Wind Speed</th>\n      <th>Country</th>\n      <th>Date</th>\n    </tr>\n  </thead>\n  <tbody>\n    <tr>\n      <th>0</th>\n      <td>georgetown</td>\n      <td>5.41</td>\n      <td>100.34</td>\n      <td>88.25</td>\n      <td>74</td>\n      <td>20</td>\n      <td>10.29</td>\n      <td>MY</td>\n      <td>2020-05-15 04:48:15</td>\n    </tr>\n    <tr>\n      <th>1</th>\n      <td>punta arenas</td>\n      <td>-53.15</td>\n      <td>-70.92</td>\n      <td>37.20</td>\n      <td>93</td>\n      <td>20</td>\n      <td>4.70</td>\n      <td>CL</td>\n      <td>2020-05-15 04:49:58</td>\n    </tr>\n    <tr>\n      <th>2</th>\n      <td>cabo san lucas</td>\n      <td>22.89</td>\n      <td>-109.91</td>\n      <td>75.40</td>\n      <td>44</td>\n      <td>0</td>\n      <td>16.11</td>\n      <td>MX</td>\n      <td>2020-05-15 04:45:14</td>\n    </tr>\n    <tr>\n      <th>3</th>\n      <td>mahebourg</td>\n      <td>-20.41</td>\n      <td>57.70</td>\n      <td>71.60</td>\n      <td>83</td>\n      <td>20</td>\n      <td>5.82</td>\n      <td>MU</td>\n      <td>2020-05-15 04:49:58</td>\n    </tr>\n    <tr>\n      <th>4</th>\n      <td>am timan</td>\n      <td>11.03</td>\n      <td>20.28</td>\n      <td>83.53</td>\n      <td>39</td>\n      <td>95</td>\n      <td>7.09</td>\n      <td>TD</td>\n      <td>2020-05-15 04:49:58</td>\n    </tr>\n    <tr>\n      <th>...</th>\n      <td>...</td>\n      <td>...</td>\n      <td>...</td>\n      <td>...</td>\n      <td>...</td>\n      <td>...</td>\n      <td>...</td>\n      <td>...</td>\n      <td>...</td>\n    </tr>\n    <tr>\n      <th>557</th>\n      <td>penzance</td>\n      <td>50.12</td>\n      <td>-5.54</td>\n      <td>44.94</td>\n      <td>87</td>\n      <td>0</td>\n      <td>10.29</td>\n      <td>GB</td>\n      <td>2020-05-15 04:52:33</td>\n    </tr>\n    <tr>\n      <th>558</th>\n      <td>tecoanapa</td>\n      <td>16.52</td>\n      <td>-98.75</td>\n      <td>79.59</td>\n      <td>70</td>\n      <td>0</td>\n      <td>2.26</td>\n      <td>MX</td>\n      <td>2020-05-15 04:52:34</td>\n    </tr>\n    <tr>\n      <th>559</th>\n      <td>kupang</td>\n      <td>-10.17</td>\n      <td>123.58</td>\n      <td>87.80</td>\n      <td>62</td>\n      <td>75</td>\n      <td>21.92</td>\n      <td>ID</td>\n      <td>2020-05-15 04:51:43</td>\n    </tr>\n    <tr>\n      <th>560</th>\n      <td>kazachinskoye</td>\n      <td>57.70</td>\n      <td>93.28</td>\n      <td>55.31</td>\n      <td>42</td>\n      <td>100</td>\n      <td>5.75</td>\n      <td>RU</td>\n      <td>2020-05-15 04:52:34</td>\n    </tr>\n    <tr>\n      <th>561</th>\n      <td>green river</td>\n      <td>41.53</td>\n      <td>-109.47</td>\n      <td>44.60</td>\n      <td>75</td>\n      <td>75</td>\n      <td>5.82</td>\n      <td>US</td>\n      <td>2020-05-15 04:52:34</td>\n    </tr>\n  </tbody>\n</table>\n<p>562 rows × 9 columns</p>\n</div>"
     },
     "metadata": {},
     "execution_count": 174
    }
   ],
   "source": [
    "city_data_df = pd.read_csv(\"City_Data.csv\", index_col=False)\n",
    "city_data_df.reset_index(drop=True, inplace=True)\n",
    "city_data_df"
   ]
  },
  {
   "cell_type": "markdown",
   "metadata": {},
   "source": [
    "### Humidity Heatmap\n",
    "* Configure gmaps.\n",
    "* Use the Lat and Lng as locations and Humidity as the weight.\n",
    "* Add Heatmap layer to map."
   ]
  },
  {
   "cell_type": "code",
   "execution_count": 175,
   "metadata": {},
   "outputs": [
    {
     "output_type": "stream",
     "name": "stdout",
     "text": "562\n562\n"
    }
   ],
   "source": [
    "# Configure gmaps with API key\n",
    "gmaps.configure(api_key=g_key)\n",
    "\n",
    "# Store 'Lat' and 'Lng' into  locations \n",
    "locations = city_data_df[['Lat', 'Lng']].astype(float)\n",
    "\n",
    "# Convert Humidity to float and store\n",
    "humidity = city_data_df['Humidity'].astype(float)\n",
    "print(len(locations))\n",
    "print(len(humidity))"
   ]
  },
  {
   "cell_type": "code",
   "execution_count": 176,
   "metadata": {},
   "outputs": [
    {
     "output_type": "display_data",
     "data": {
      "text/plain": "Figure(layout=FigureLayout(height='420px'))",
      "application/vnd.jupyter.widget-view+json": {
       "version_major": 2,
       "version_minor": 0,
       "model_id": "0b5b1c9c95534383afe90e52098aa59f"
      }
     },
     "metadata": {}
    }
   ],
   "source": [
    "# Create a poverty Heatmap layer\n",
    "starting_coordinates = (22.32, 114.17)\n",
    "fig = gmaps.figure(center=starting_coordinates, \n",
    "                   zoom_level=4,\n",
    "                   map_type='HYBRID')\n",
    "\n",
    "heat_layer = gmaps.heatmap_layer(locations, \n",
    "                                 weights=humidity, \n",
    "                                 dissipating=False,         \n",
    "                                 max_intensity=100,\n",
    "                                 point_radius = 2)\n",
    "\n",
    "fig.add_layer(heat_layer)\n",
    "\n",
    "fig"
   ]
  },
  {
   "cell_type": "markdown",
   "metadata": {},
   "source": [
    "### Create new DataFrame fitting weather criteria\n",
    "* Narrow down the cities to fit weather conditions.\n",
    "* Drop any rows will null values."
   ]
  },
  {
   "cell_type": "code",
   "execution_count": 177,
   "metadata": {},
   "outputs": [
    {
     "output_type": "execute_result",
     "data": {
      "text/plain": "            City    Lat     Lng  Max Temp  Humidity  Cloudiness  Wind Speed  \\\n94      victoria  22.29  114.16     86.07        62          71       11.63   \n136     dzaoudzi -12.79   45.27     82.40        65          40       19.46   \n148      wanning  18.80  110.40     88.75        63           3       12.88   \n194        hobyo   5.35   48.53     84.81        67           2       19.53   \n461  keti bandar  24.14   67.45     87.49        62          16       10.80   \n487      karaton  -6.34  106.10     89.28        66          20       14.99   \n\n    Country                 Date  \n94       HK  2020-05-15 04:48:45  \n136      YT  2020-05-15 04:50:34  \n148      CN  2020-05-15 04:50:37  \n194      SO  2020-05-15 04:50:49  \n461      PK  2020-05-15 04:52:04  \n487      ID  2020-05-15 04:52:12  ",
      "text/html": "<div>\n<style scoped>\n    .dataframe tbody tr th:only-of-type {\n        vertical-align: middle;\n    }\n\n    .dataframe tbody tr th {\n        vertical-align: top;\n    }\n\n    .dataframe thead th {\n        text-align: right;\n    }\n</style>\n<table border=\"1\" class=\"dataframe\">\n  <thead>\n    <tr style=\"text-align: right;\">\n      <th></th>\n      <th>City</th>\n      <th>Lat</th>\n      <th>Lng</th>\n      <th>Max Temp</th>\n      <th>Humidity</th>\n      <th>Cloudiness</th>\n      <th>Wind Speed</th>\n      <th>Country</th>\n      <th>Date</th>\n    </tr>\n  </thead>\n  <tbody>\n    <tr>\n      <th>94</th>\n      <td>victoria</td>\n      <td>22.29</td>\n      <td>114.16</td>\n      <td>86.07</td>\n      <td>62</td>\n      <td>71</td>\n      <td>11.63</td>\n      <td>HK</td>\n      <td>2020-05-15 04:48:45</td>\n    </tr>\n    <tr>\n      <th>136</th>\n      <td>dzaoudzi</td>\n      <td>-12.79</td>\n      <td>45.27</td>\n      <td>82.40</td>\n      <td>65</td>\n      <td>40</td>\n      <td>19.46</td>\n      <td>YT</td>\n      <td>2020-05-15 04:50:34</td>\n    </tr>\n    <tr>\n      <th>148</th>\n      <td>wanning</td>\n      <td>18.80</td>\n      <td>110.40</td>\n      <td>88.75</td>\n      <td>63</td>\n      <td>3</td>\n      <td>12.88</td>\n      <td>CN</td>\n      <td>2020-05-15 04:50:37</td>\n    </tr>\n    <tr>\n      <th>194</th>\n      <td>hobyo</td>\n      <td>5.35</td>\n      <td>48.53</td>\n      <td>84.81</td>\n      <td>67</td>\n      <td>2</td>\n      <td>19.53</td>\n      <td>SO</td>\n      <td>2020-05-15 04:50:49</td>\n    </tr>\n    <tr>\n      <th>461</th>\n      <td>keti bandar</td>\n      <td>24.14</td>\n      <td>67.45</td>\n      <td>87.49</td>\n      <td>62</td>\n      <td>16</td>\n      <td>10.80</td>\n      <td>PK</td>\n      <td>2020-05-15 04:52:04</td>\n    </tr>\n    <tr>\n      <th>487</th>\n      <td>karaton</td>\n      <td>-6.34</td>\n      <td>106.10</td>\n      <td>89.28</td>\n      <td>66</td>\n      <td>20</td>\n      <td>14.99</td>\n      <td>ID</td>\n      <td>2020-05-15 04:52:12</td>\n    </tr>\n  </tbody>\n</table>\n</div>"
     },
     "metadata": {},
     "execution_count": 177
    }
   ],
   "source": [
    "temp_df = city_data_df[(city_data_df['Max Temp'] < 90)  & (city_data_df['Max Temp'] > 80)]\n",
    "temp_df = temp_df[(temp_df['Humidity'] < 70)  & (temp_df['Humidity'] > 60)]\n",
    "temp_df = temp_df[(temp_df['Wind Speed'] < 20)  & (temp_df['Wind Speed'] > 10)]\n",
    "temp_df = temp_df.dropna()\n",
    "temp_df"
   ]
  },
  {
   "cell_type": "markdown",
   "metadata": {},
   "source": [
    "### Hotel Map\n",
    "* Store into variable named `hotel_df`.\n",
    "* Add a \"Hotel Name\" column to the DataFrame.\n",
    "* Set parameters to search for hotels with 5000 meters.\n",
    "* Hit the Google Places API for each city's coordinates.\n",
    "* Store the first Hotel result into the DataFrame.\n",
    "* Plot markers on top of the heatmap."
   ]
  },
  {
   "cell_type": "code",
   "execution_count": 178,
   "metadata": {
    "tags": [
     "outputPrepend",
     "outputPrepend",
     "outputPrepend",
     "outputPrepend"
    ]
   },
   "outputs": [
    {
     "output_type": "stream",
     "name": "stdout",
     "text": "--------\nvictoria\n4.1\nDorsett Mongkok, Hong Kong\n88 Tai Kok Tsui Rd, Tai Kok Tsui\n--------\ndzaoudzi\n3.3\nHotel Maharajah Mayotte\nMamoudzou\n--------\nwanning\n0\nParadise Hotel\nWanning, Renmin Middle Rd, 万城镇人民中街\n--------\nhobyo\n###list index out of range###\n### No hotel(S) found for city: hobyo. Skipping...\nTraceback (most recent call last):\n  File \"<ipython-input-178-4bff4fa02196>\", line 43, in <module>\n    hotels.append(results[\"results\"][0][\"name\"])\nIndexError: list index out of range\n\n--------\nketi bandar\n###list index out of range###\n### No hotel(S) found for city: keti bandar. Skipping...\nTraceback (most recent call last):\n  File \"<ipython-input-178-4bff4fa02196>\", line 43, in <module>\n    hotels.append(results[\"results\"][0][\"name\"])\nIndexError: list index out of range\n\n--------\nkaraton\n3.8\nOYO 3173 Wisma Pkp-ri\nJalan Raya Labuan Km.3 Majasari, Sukaratu, Kabupaten Pandeglang\n"
    }
   ],
   "source": [
    "lat = []\n",
    "lng = []\n",
    "hotels = []\n",
    "cities = []\n",
    "countries = []\n",
    "vicinities = []\n",
    "ratings = []\n",
    "\n",
    "for index, row in temp_df.iterrows():\n",
    "    print(\"--------\")\n",
    "    print(row['City'])\n",
    "\n",
    "    # geocoordinates\n",
    "    target_coordinates = (f\"{row['Lat']}, {row['Lng']}\")\n",
    "    target_search = \"hotel\"\n",
    "    target_radius = 5000\n",
    "    target_type = \"hotel\"\n",
    "    target_rank = \"rating\"\n",
    "\n",
    "    # set up a parameters dictionary\n",
    "    params = {\n",
    "        \"location\": target_coordinates,\n",
    "        \"keyword\": target_search,\n",
    "        \"radius\": target_radius,\n",
    "        \"type\": target_type,\n",
    "        \"rankBy\": target_rank,\n",
    "        \"key\": g_key\n",
    "    }\n",
    "\n",
    "    try:\n",
    "        # base url\n",
    "        base_url = \"https://maps.googleapis.com/maps/api/place/nearbysearch/json\"\n",
    "\n",
    "        # run a request using our params dictionary\n",
    "        response = requests.get(base_url, params=params)\n",
    "        #print(response.url)\n",
    "        # convert response to json\n",
    "        results = response.json()\n",
    "        #print(response.json())\n",
    "        # Print the json (pretty printed)\n",
    "        #print(json.dumps(results, indent=4, sort_keys=True))\n",
    "\n",
    "        hotels.append(results[\"results\"][0][\"name\"])\n",
    "        lat.append(row['Lat'])\n",
    "        lng.append(row['Lng'])\n",
    "        cities.append(row['City'])\n",
    "        countries.append(row['Country'])\n",
    "        vicinities.append(results[\"results\"][0][\"vicinity\"])\n",
    "        ratings.append(results[\"results\"][0][\"rating\"])\n",
    "\n",
    "        print(results[\"results\"][0][\"rating\"])\n",
    "        print(results[\"results\"][0][\"name\"])\n",
    "        print(results[\"results\"][0][\"vicinity\"])\n",
    "        \n",
    "    except Exception as e:\n",
    "        print(f\"###{e}###\")\n",
    "        print(f\"### No hotel(S) found for city: {row['City']}. Skipping...\")\n",
    "        print(traceback.format_exc())"
   ]
  },
  {
   "cell_type": "code",
   "execution_count": 179,
   "metadata": {
    "tags": [
     "outputPrepend"
    ]
   },
   "outputs": [
    {
     "output_type": "execute_result",
     "data": {
      "text/plain": "                   Hotel Name      City Country    Lat     Lng  \\\n0  Dorsett Mongkok, Hong Kong  victoria      HK  22.29  114.16   \n1     Hotel Maharajah Mayotte  dzaoudzi      YT -12.79   45.27   \n2              Paradise Hotel   wanning      CN  18.80  110.40   \n3       OYO 3173 Wisma Pkp-ri   karaton      ID  -6.34  106.10   \n\n                                            Vicinity  Rating  \n0                   88 Tai Kok Tsui Rd, Tai Kok Tsui     4.1  \n1                                          Mamoudzou     3.3  \n2                 Wanning, Renmin Middle Rd, 万城镇人民中街     0.0  \n3  Jalan Raya Labuan Km.3 Majasari, Sukaratu, Kab...     3.8  ",
      "text/html": "<div>\n<style scoped>\n    .dataframe tbody tr th:only-of-type {\n        vertical-align: middle;\n    }\n\n    .dataframe tbody tr th {\n        vertical-align: top;\n    }\n\n    .dataframe thead th {\n        text-align: right;\n    }\n</style>\n<table border=\"1\" class=\"dataframe\">\n  <thead>\n    <tr style=\"text-align: right;\">\n      <th></th>\n      <th>Hotel Name</th>\n      <th>City</th>\n      <th>Country</th>\n      <th>Lat</th>\n      <th>Lng</th>\n      <th>Vicinity</th>\n      <th>Rating</th>\n    </tr>\n  </thead>\n  <tbody>\n    <tr>\n      <th>0</th>\n      <td>Dorsett Mongkok, Hong Kong</td>\n      <td>victoria</td>\n      <td>HK</td>\n      <td>22.29</td>\n      <td>114.16</td>\n      <td>88 Tai Kok Tsui Rd, Tai Kok Tsui</td>\n      <td>4.1</td>\n    </tr>\n    <tr>\n      <th>1</th>\n      <td>Hotel Maharajah Mayotte</td>\n      <td>dzaoudzi</td>\n      <td>YT</td>\n      <td>-12.79</td>\n      <td>45.27</td>\n      <td>Mamoudzou</td>\n      <td>3.3</td>\n    </tr>\n    <tr>\n      <th>2</th>\n      <td>Paradise Hotel</td>\n      <td>wanning</td>\n      <td>CN</td>\n      <td>18.80</td>\n      <td>110.40</td>\n      <td>Wanning, Renmin Middle Rd, 万城镇人民中街</td>\n      <td>0.0</td>\n    </tr>\n    <tr>\n      <th>3</th>\n      <td>OYO 3173 Wisma Pkp-ri</td>\n      <td>karaton</td>\n      <td>ID</td>\n      <td>-6.34</td>\n      <td>106.10</td>\n      <td>Jalan Raya Labuan Km.3 Majasari, Sukaratu, Kab...</td>\n      <td>3.8</td>\n    </tr>\n  </tbody>\n</table>\n</div>"
     },
     "metadata": {},
     "execution_count": 179
    }
   ],
   "source": [
    "hotel_df = pd.DataFrame({'Hotel Name':hotels,\n",
    "                        'City':cities,\n",
    "                        'Country':countries,\n",
    "                        'Lat':lat,\n",
    "                        'Lng':lng,\n",
    "                        'Vicinity':vicinities,\n",
    "                        'Rating':ratings})\n",
    "hotel_df\n",
    "#hotel_df.sort_values(['Country'], ascending=True)"
   ]
  },
  {
   "cell_type": "code",
   "execution_count": 181,
   "metadata": {},
   "outputs": [],
   "source": [
    "# NOTE: Do not change any of the code in this cell\n",
    "\n",
    "# Using the template add the hotel marks to the heatmap\n",
    "info_box_template = \"\"\"\n",
    "<dl>\n",
    "<dt>Name</dt><dd>{Hotel Name}</dd>\n",
    "<dt>City</dt><dd>{City}</dd>\n",
    "<dt>Country</dt><dd>{Country}</dd>\n",
    "</dl>\n",
    "\"\"\"\n",
    "# Store the DataFrame Row\n",
    "# NOTE: be sure to update with your DataFrame name\n",
    "hotel_info = [info_box_template.format(**row) for index, row in hotel_df.iterrows()]\n",
    "locations = hotel_df[[\"Lat\", \"Lng\"]]"
   ]
  },
  {
   "cell_type": "code",
   "execution_count": 182,
   "metadata": {},
   "outputs": [
    {
     "output_type": "display_data",
     "data": {
      "text/plain": "Figure(layout=FigureLayout(height='420px'))",
      "application/vnd.jupyter.widget-view+json": {
       "version_major": 2,
       "version_minor": 0,
       "model_id": "0b5b1c9c95534383afe90e52098aa59f"
      }
     },
     "metadata": {}
    }
   ],
   "source": [
    "# Add marker layer ontop of heat map\n",
    "# Create hotel symbol layer\n",
    "hotel_layer = gmaps.symbol_layer(\n",
    "    locations, fill_color='rgba(0, 150, 0, 0.4)',\n",
    "    stroke_color='rgba(0, 0, 150, 0.4)', scale=4,\n",
    "    info_box_content=hotel_info\n",
    ")\n",
    "\n",
    "\n",
    "#fig = gmaps.figure()\n",
    "fig.add_layer(heat_layer)\n",
    "fig.add_layer(hotel_layer)\n",
    "\n",
    "fig\n",
    "\n",
    "# Display figure\n"
   ]
  },
  {
   "cell_type": "code",
   "execution_count": null,
   "metadata": {},
   "outputs": [],
   "source": []
  }
 ],
 "metadata": {
  "kernelspec": {
   "display_name": "Python 3",
   "language": "python",
   "name": "python3"
  },
  "language_info": {
   "codemirror_mode": {
    "name": "ipython",
    "version": 3
   },
   "file_extension": ".py",
   "mimetype": "text/x-python",
   "name": "python",
   "nbconvert_exporter": "python",
   "pygments_lexer": "ipython3",
   "version": "3.7.6-final"
  },
  "latex_envs": {
   "LaTeX_envs_menu_present": true,
   "autoclose": false,
   "autocomplete": true,
   "bibliofile": "biblio.bib",
   "cite_by": "apalike",
   "current_citInitial": 1,
   "eqLabelWithNumbers": true,
   "eqNumInitial": 1,
   "hotkeys": {
    "equation": "Ctrl-E",
    "itemize": "Ctrl-I"
   },
   "labels_anchors": false,
   "latex_user_defs": false,
   "report_style_numbering": false,
   "user_envs_cfg": false
  }
 },
 "nbformat": 4,
 "nbformat_minor": 2
}